{
 "cells": [
  {
   "cell_type": "code",
   "execution_count": 35,
   "id": "035588f5-930a-47e5-b9c5-2da8d63e9e7d",
   "metadata": {},
   "outputs": [],
   "source": [
    "import numpy as np\n",
    "import pandas as pd\n",
    "\n",
    "from sklearn.model_selection import train_test_split\n",
    "from sklearn.pipeline import Pipeline\n",
    "from sklearn.compose import ColumnTransformer\n",
    "\n",
    "from jcopml.pipeline import num_pipe, cat_pipe\n",
    "from jcopml.utils import save_model, load_model\n",
    "from jcopml.plot import plot_missing_value\n",
    "from jcopml.feature_importance import mean_score_decrease"
   ]
  },
  {
   "cell_type": "code",
   "execution_count": 36,
   "id": "ed238f5d-f3ac-48c6-89b6-3e8a0170e69c",
   "metadata": {},
   "outputs": [],
   "source": [
    "import torch \n",
    "from torch import nn, optim"
   ]
  },
  {
   "cell_type": "code",
   "execution_count": 37,
   "id": "a19abb7c-d413-4f20-91aa-d9cb6735b282",
   "metadata": {},
   "outputs": [
    {
     "data": {
      "text/plain": [
       "device(type='cpu')"
      ]
     },
     "execution_count": 37,
     "metadata": {},
     "output_type": "execute_result"
    }
   ],
   "source": [
    "device = torch.device('cuda' if torch.cuda.is_available() else 'cpu')\n",
    "device"
   ]
  },
  {
   "cell_type": "markdown",
   "id": "026dd00c-367f-40d3-824b-6c9d226ec419",
   "metadata": {},
   "source": [
    "# Import Data "
   ]
  },
  {
   "cell_type": "code",
   "execution_count": 38,
   "id": "7bbbb2b9-53ca-4e85-b9c2-230906d421fb",
   "metadata": {},
   "outputs": [
    {
     "data": {
      "text/html": [
       "<div>\n",
       "<style scoped>\n",
       "    .dataframe tbody tr th:only-of-type {\n",
       "        vertical-align: middle;\n",
       "    }\n",
       "\n",
       "    .dataframe tbody tr th {\n",
       "        vertical-align: top;\n",
       "    }\n",
       "\n",
       "    .dataframe thead th {\n",
       "        text-align: right;\n",
       "    }\n",
       "</style>\n",
       "<table border=\"1\" class=\"dataframe\">\n",
       "  <thead>\n",
       "    <tr style=\"text-align: right;\">\n",
       "      <th></th>\n",
       "      <th>age</th>\n",
       "      <th>anaemia</th>\n",
       "      <th>creatinine_phosphokinase</th>\n",
       "      <th>diabetes</th>\n",
       "      <th>ejection_fraction</th>\n",
       "      <th>high_blood_pressure</th>\n",
       "      <th>platelets</th>\n",
       "      <th>serum_creatinine</th>\n",
       "      <th>serum_sodium</th>\n",
       "      <th>sex</th>\n",
       "      <th>smoking</th>\n",
       "      <th>time</th>\n",
       "      <th>DEATH_EVENT</th>\n",
       "    </tr>\n",
       "  </thead>\n",
       "  <tbody>\n",
       "    <tr>\n",
       "      <th>0</th>\n",
       "      <td>55.0</td>\n",
       "      <td>0</td>\n",
       "      <td>748</td>\n",
       "      <td>0</td>\n",
       "      <td>45</td>\n",
       "      <td>0</td>\n",
       "      <td>263358.03</td>\n",
       "      <td>1.3</td>\n",
       "      <td>137</td>\n",
       "      <td>1</td>\n",
       "      <td>1</td>\n",
       "      <td>88</td>\n",
       "      <td>0</td>\n",
       "    </tr>\n",
       "    <tr>\n",
       "      <th>1</th>\n",
       "      <td>65.0</td>\n",
       "      <td>0</td>\n",
       "      <td>56</td>\n",
       "      <td>0</td>\n",
       "      <td>25</td>\n",
       "      <td>0</td>\n",
       "      <td>305000.00</td>\n",
       "      <td>5.0</td>\n",
       "      <td>130</td>\n",
       "      <td>1</td>\n",
       "      <td>0</td>\n",
       "      <td>207</td>\n",
       "      <td>0</td>\n",
       "    </tr>\n",
       "    <tr>\n",
       "      <th>2</th>\n",
       "      <td>45.0</td>\n",
       "      <td>0</td>\n",
       "      <td>582</td>\n",
       "      <td>1</td>\n",
       "      <td>38</td>\n",
       "      <td>0</td>\n",
       "      <td>319000.00</td>\n",
       "      <td>0.9</td>\n",
       "      <td>140</td>\n",
       "      <td>0</td>\n",
       "      <td>0</td>\n",
       "      <td>244</td>\n",
       "      <td>0</td>\n",
       "    </tr>\n",
       "    <tr>\n",
       "      <th>3</th>\n",
       "      <td>60.0</td>\n",
       "      <td>1</td>\n",
       "      <td>754</td>\n",
       "      <td>1</td>\n",
       "      <td>40</td>\n",
       "      <td>1</td>\n",
       "      <td>328000.00</td>\n",
       "      <td>1.2</td>\n",
       "      <td>126</td>\n",
       "      <td>1</td>\n",
       "      <td>0</td>\n",
       "      <td>90</td>\n",
       "      <td>0</td>\n",
       "    </tr>\n",
       "    <tr>\n",
       "      <th>4</th>\n",
       "      <td>95.0</td>\n",
       "      <td>1</td>\n",
       "      <td>582</td>\n",
       "      <td>0</td>\n",
       "      <td>30</td>\n",
       "      <td>0</td>\n",
       "      <td>461000.00</td>\n",
       "      <td>2.0</td>\n",
       "      <td>132</td>\n",
       "      <td>1</td>\n",
       "      <td>0</td>\n",
       "      <td>50</td>\n",
       "      <td>1</td>\n",
       "    </tr>\n",
       "  </tbody>\n",
       "</table>\n",
       "</div>"
      ],
      "text/plain": [
       "    age  anaemia  creatinine_phosphokinase  diabetes  ejection_fraction  \\\n",
       "0  55.0        0                       748         0                 45   \n",
       "1  65.0        0                        56         0                 25   \n",
       "2  45.0        0                       582         1                 38   \n",
       "3  60.0        1                       754         1                 40   \n",
       "4  95.0        1                       582         0                 30   \n",
       "\n",
       "   high_blood_pressure  platelets  serum_creatinine  serum_sodium  sex  \\\n",
       "0                    0  263358.03               1.3           137    1   \n",
       "1                    0  305000.00               5.0           130    1   \n",
       "2                    0  319000.00               0.9           140    0   \n",
       "3                    1  328000.00               1.2           126    1   \n",
       "4                    0  461000.00               2.0           132    1   \n",
       "\n",
       "   smoking  time  DEATH_EVENT  \n",
       "0        1    88            0  \n",
       "1        0   207            0  \n",
       "2        0   244            0  \n",
       "3        0    90            0  \n",
       "4        0    50            1  "
      ]
     },
     "execution_count": 38,
     "metadata": {},
     "output_type": "execute_result"
    }
   ],
   "source": [
    "df = pd.read_csv(\"heart_failure_clinical_records.csv\")\n",
    "df.head()"
   ]
  },
  {
   "cell_type": "code",
   "execution_count": 39,
   "id": "1e8994d3-e350-4ad6-a905-5713dd7c88c2",
   "metadata": {},
   "outputs": [
    {
     "data": {
      "text/html": [
       "<div>\n",
       "<style scoped>\n",
       "    .dataframe tbody tr th:only-of-type {\n",
       "        vertical-align: middle;\n",
       "    }\n",
       "\n",
       "    .dataframe tbody tr th {\n",
       "        vertical-align: top;\n",
       "    }\n",
       "\n",
       "    .dataframe thead th {\n",
       "        text-align: right;\n",
       "    }\n",
       "</style>\n",
       "<table border=\"1\" class=\"dataframe\">\n",
       "  <thead>\n",
       "    <tr style=\"text-align: right;\">\n",
       "      <th></th>\n",
       "      <th>missing_value</th>\n",
       "      <th>%</th>\n",
       "    </tr>\n",
       "  </thead>\n",
       "  <tbody>\n",
       "    <tr>\n",
       "      <th>age</th>\n",
       "      <td>0</td>\n",
       "      <td>0.0</td>\n",
       "    </tr>\n",
       "    <tr>\n",
       "      <th>anaemia</th>\n",
       "      <td>0</td>\n",
       "      <td>0.0</td>\n",
       "    </tr>\n",
       "    <tr>\n",
       "      <th>creatinine_phosphokinase</th>\n",
       "      <td>0</td>\n",
       "      <td>0.0</td>\n",
       "    </tr>\n",
       "    <tr>\n",
       "      <th>diabetes</th>\n",
       "      <td>0</td>\n",
       "      <td>0.0</td>\n",
       "    </tr>\n",
       "    <tr>\n",
       "      <th>ejection_fraction</th>\n",
       "      <td>0</td>\n",
       "      <td>0.0</td>\n",
       "    </tr>\n",
       "    <tr>\n",
       "      <th>high_blood_pressure</th>\n",
       "      <td>0</td>\n",
       "      <td>0.0</td>\n",
       "    </tr>\n",
       "    <tr>\n",
       "      <th>platelets</th>\n",
       "      <td>0</td>\n",
       "      <td>0.0</td>\n",
       "    </tr>\n",
       "    <tr>\n",
       "      <th>serum_creatinine</th>\n",
       "      <td>0</td>\n",
       "      <td>0.0</td>\n",
       "    </tr>\n",
       "    <tr>\n",
       "      <th>serum_sodium</th>\n",
       "      <td>0</td>\n",
       "      <td>0.0</td>\n",
       "    </tr>\n",
       "    <tr>\n",
       "      <th>sex</th>\n",
       "      <td>0</td>\n",
       "      <td>0.0</td>\n",
       "    </tr>\n",
       "    <tr>\n",
       "      <th>smoking</th>\n",
       "      <td>0</td>\n",
       "      <td>0.0</td>\n",
       "    </tr>\n",
       "    <tr>\n",
       "      <th>time</th>\n",
       "      <td>0</td>\n",
       "      <td>0.0</td>\n",
       "    </tr>\n",
       "    <tr>\n",
       "      <th>DEATH_EVENT</th>\n",
       "      <td>0</td>\n",
       "      <td>0.0</td>\n",
       "    </tr>\n",
       "  </tbody>\n",
       "</table>\n",
       "</div>"
      ],
      "text/plain": [
       "                          missing_value    %\n",
       "age                                   0  0.0\n",
       "anaemia                               0  0.0\n",
       "creatinine_phosphokinase              0  0.0\n",
       "diabetes                              0  0.0\n",
       "ejection_fraction                     0  0.0\n",
       "high_blood_pressure                   0  0.0\n",
       "platelets                             0  0.0\n",
       "serum_creatinine                      0  0.0\n",
       "serum_sodium                          0  0.0\n",
       "sex                                   0  0.0\n",
       "smoking                               0  0.0\n",
       "time                                  0  0.0\n",
       "DEATH_EVENT                           0  0.0"
      ]
     },
     "execution_count": 39,
     "metadata": {},
     "output_type": "execute_result"
    },
    {
     "data": {
      "image/png": "[encoded data removed]",
      "text/plain": [
       "<Figure size 1500x800 with 1 Axes>"
      ]
     },
     "metadata": {},
     "output_type": "display_data"
    }
   ],
   "source": [
    "plot_missing_value(df,return_df=True)"
   ]
  },
  {
   "cell_type": "code",
   "execution_count": 8,
   "id": "85a7fff6-78b2-4675-86e7-14b506e061ce",
   "metadata": {},
   "outputs": [
    {
     "data": {
      "text/plain": [
       "0    3432\n",
       "1    1568\n",
       "Name: DEATH_EVENT, dtype: int64"
      ]
     },
     "execution_count": 8,
     "metadata": {},
     "output_type": "execute_result"
    }
   ],
   "source": [
    "df.DEATH_EVENT.value_counts()"
   ]
  },
  {
   "cell_type": "markdown",
   "id": "1c427720-010b-4b3e-b6df-ac08022570bb",
   "metadata": {},
   "source": [
    "# Data Spliting"
   ]
  },
  {
   "cell_type": "code",
   "execution_count": 52,
   "id": "e98cd172-c967-4467-aa2e-1116163a29fb",
   "metadata": {},
   "outputs": [
    {
     "data": {
      "text/plain": [
       "((4000, 12), (1000, 12), (4000,), (1000,))"
      ]
     },
     "execution_count": 52,
     "metadata": {},
     "output_type": "execute_result"
    }
   ],
   "source": [
    "X = df.drop(columns=\"DEATH_EVENT\")\n",
    "y = df.DEATH_EVENT.values\n",
    "\n",
    "X_train, X_test, y_train, y_test = train_test_split(X, y, test_size=0.2, stratify=y, random_state=42)\n",
    "X_train.shape, X_test.shape, y_train.shape, y_test.shape"
   ]
  },
  {
   "cell_type": "markdown",
   "id": "234e7c9a-85e6-450d-a463-53de5521c402",
   "metadata": {},
   "source": [
    "# Preprocessor Data"
   ]
  },
  {
   "cell_type": "code",
   "execution_count": 53,
   "id": "b2a93349-145e-4b63-a4fd-62b48eed1983",
   "metadata": {},
   "outputs": [],
   "source": [
    "preprocessor = ColumnTransformer([\n",
    "    ('numeric', num_pipe(), ['age',  'creatinine_phosphokinase','ejection_fraction','platelets','serum_creatinine', 'serum_sodium','time']),\n",
    "    ('categoric', cat_pipe(encoder=\"onehot\"),['anaemia','diabetes','high_blood_pressure','sex','smoking'])\n",
    "])"
   ]
  },
  {
   "cell_type": "code",
   "execution_count": 54,
   "id": "542616ea-a755-4948-bb10-9a5c3294776b",
   "metadata": {},
   "outputs": [
    {
     "name": "stderr",
     "output_type": "stream",
     "text": [
      "C:\\Users\\ASUS\\miniconda3\\envs\\jcopdl\\lib\\site-packages\\sklearn\\impute\\_base.py:49: FutureWarning: Unlike other reduction functions (e.g. `skew`, `kurtosis`), the default behavior of `mode` typically preserves the axis it acts along. In SciPy 1.11.0, this behavior will change: the default value of `keepdims` will become False, the `axis` over which the statistic is taken will be eliminated, and the value None will no longer be accepted. Set `keepdims` to True or False to avoid this warning.\n",
      "  mode = stats.mode(array)\n"
     ]
    }
   ],
   "source": [
    "X_train = preprocessor.fit_transform(X_train)\n",
    "X_test = preprocessor.transform(X_test)"
   ]
  },
  {
   "cell_type": "markdown",
   "id": "aadf998d-5ba8-4a1d-8c91-57e7f41c77a2",
   "metadata": {},
   "source": [
    "# Dataset dan DataLoader"
   ]
  },
  {
   "cell_type": "code",
   "execution_count": 55,
   "id": "6e2873e4-a00e-4341-b659-a37b338f181c",
   "metadata": {},
   "outputs": [],
   "source": [
    "X_train = torch.FloatTensor(X_train).to(device)\n",
    "X_test = torch.FloatTensor(X_test).to(device)\n",
    "\n",
    "# ubah ke longtensor karena label multiclass dan integer \n",
    "y_train = torch.LongTensor(y_train).to(device)\n",
    "y_test = torch.LongTensor(y_test).to(device)"
   ]
  },
  {
   "cell_type": "code",
   "execution_count": 44,
   "id": "f46978fc-f03a-48eb-81b9-a9bc5c4e7cc9",
   "metadata": {},
   "outputs": [],
   "source": [
    "from torch.utils.data import DataLoader, TensorDataset"
   ]
  },
  {
   "cell_type": "code",
   "execution_count": 56,
   "id": "c1d71bb2-c281-4a4a-8d3b-19b3e9ca0ffd",
   "metadata": {},
   "outputs": [],
   "source": [
    "train_set = TensorDataset(X_train,y_train)\n",
    "train_loader = DataLoader(train_set,batch_size=64,shuffle=True)\n",
    "\n",
    "test_set = TensorDataset(X_test,y_test)\n",
    "test_loader = DataLoader(test_set,batch_size=64)"
   ]
  },
  {
   "cell_type": "code",
   "execution_count": 27,
   "id": "f596b1e7",
   "metadata": {},
   "outputs": [
    {
     "data": {
      "text/plain": [
       "2"
      ]
     },
     "execution_count": 27,
     "metadata": {},
     "output_type": "execute_result"
    }
   ],
   "source": [
    "len(torch.unique(y_train))"
   ]
  },
  {
   "cell_type": "markdown",
   "id": "85d672df-dba5-4b27-9ec2-2921183b2406",
   "metadata": {},
   "source": [
    "# Training Preparation "
   ]
  },
  {
   "cell_type": "code",
   "execution_count": 15,
   "id": "0eda9a10-ecae-4ddc-95fe-a1eaa92e0c91",
   "metadata": {},
   "outputs": [
    {
     "data": {
      "text/plain": [
       "17"
      ]
     },
     "execution_count": 15,
     "metadata": {},
     "output_type": "execute_result"
    }
   ],
   "source": [
    "X_train.shape[1]"
   ]
  },
  {
   "cell_type": "markdown",
   "id": "a6a8301e",
   "metadata": {},
   "source": [
    "# coba improve menggunakan class weigth "
   ]
  },
  {
   "cell_type": "code",
   "execution_count": 36,
   "id": "b7bdb76e-402c-4f43-beea-39f76eff2cec",
   "metadata": {},
   "outputs": [],
   "source": [
    "class_counts = [3432, 1568]\n",
    "total_count = sum(class_counts)\n",
    "class_weights = [total_count / class_count for class_count in class_counts]\n",
    "class_weights = torch.tensor(class_weights, device=device)"
   ]
  },
  {
   "cell_type": "markdown",
   "id": "c06430c1",
   "metadata": {},
   "source": [
    "# MCO"
   ]
  },
  {
   "cell_type": "code",
   "execution_count": 37,
   "id": "c2608573-3089-4a04-8912-8a19ce680ef7",
   "metadata": {},
   "outputs": [],
   "source": [
    "model = nn.Sequential(\n",
    "    nn.Linear(17, 32),\n",
    "    nn.ReLU(),\n",
    "    nn.Dropout(0.3),\n",
    "    \n",
    "    nn.Linear(32, 16),\n",
    "    nn.ReLU(),\n",
    "    nn.Dropout(0.3),\n",
    "    \n",
    "    nn.Linear(16, 8),\n",
    "    nn.ReLU(),\n",
    "    nn.Dropout(0.3),\n",
    "    \n",
    "    nn.Linear(8, 2),\n",
    "    nn.LogSoftmax(1),\n",
    ").to(device)\n",
    "criterion = nn.NLLLoss(weight=class_weights)\n",
    "optimizer = optim.AdamW(model.parameters(), lr=0.003)"
   ]
  },
  {
   "cell_type": "markdown",
   "id": "8ea618fd-a504-4aa9-b782-ab12303b2967",
   "metadata": {},
   "source": [
    "# Training"
   ]
  },
  {
   "cell_type": "code",
   "execution_count": 38,
   "id": "c0d2df2e-6bf8-4aac-a77e-78162287af60",
   "metadata": {},
   "outputs": [],
   "source": [
    "def loop_fn(mode, dataset, dataloader, model, criterion, optimizer, device):\n",
    "    if mode == \"train\":\n",
    "        model.train()\n",
    "    elif mode == \"test\":\n",
    "        model.eval()\n",
    "    cost = correct = 0\n",
    "    for feature, target in dataloader:\n",
    "        feature, target = feature.to(device), target.to(device)\n",
    "        output = model(feature) #feed forward\n",
    "        loss = criterion(output, target) #hitung loss\n",
    "        \n",
    "        if mode == \"train\":\n",
    "            loss.backward() #backpropagation\n",
    "            optimizer.step() #updateweight\n",
    "            optimizer.zero_grad()\n",
    "        \n",
    "        cost += loss.item() * feature.shape[0]\n",
    "        correct += (output.argmax(1) == target).sum().item()\n",
    "    cost = cost / len(dataset)\n",
    "    acc = correct / len(dataset)\n",
    "    return cost, acc"
   ]
  },
  {
   "cell_type": "code",
   "execution_count": 39,
   "id": "fec86d1e-985d-4b2b-9154-b6ba176499cd",
   "metadata": {},
   "outputs": [
    {
     "name": "stdout",
     "output_type": "stream",
     "text": [
      "Epoch 1000/1000 | train_cost: 0.6933 | test_cost: 0.6931 | train_acc: 0.6865 test_acc: | 0.6860 "
     ]
    }
   ],
   "source": [
    "epoch = 1000\n",
    "train_cost, test_cost = [],[]\n",
    "train_acc, test_acc = [],[]\n",
    "for i in range(epoch):\n",
    "    cost,acc = loop_fn('train', train_set, trainloader, model, criterion, optimizer, device)\n",
    "    train_cost.append(cost)\n",
    "    train_acc.append(acc)\n",
    "    with torch.no_grad():\n",
    "        cost,acc = loop_fn('test', test_set, testloader, model, criterion, optimizer, device)\n",
    "        test_cost.append(cost)\n",
    "        test_acc.append(acc)\n",
    "        \n",
    "    print(f\"\\rEpoch {i+1}/{epochs} | train_cost: {train_cost[-1]:.4f} | test_cost: {test_cost[-1]:.4f} | \"\n",
    "          f\"train_acc: {train_acc[-1]:.4f} test_acc: | {test_acc[-1]:.4f}\", end=\" \")"
   ]
  },
  {
   "cell_type": "code",
   "execution_count": 30,
   "id": "4731688f-5493-49f7-a35c-29a2fb9b16bd",
   "metadata": {},
   "outputs": [],
   "source": [
    "import matplotlib.pyplot as plt"
   ]
  },
  {
   "cell_type": "code",
   "execution_count": 31,
   "id": "c41e64e4-615e-46c8-a946-44c7e8845934",
   "metadata": {},
   "outputs": [
    {
     "data": {
      "image/png": "[encoded data removed]",
      "text/plain": [
       "<Figure size 1800x800 with 2 Axes>"
      ]
     },
     "metadata": {},
     "output_type": "display_data"
    }
   ],
   "source": [
    "plt.figure(figsize=(18,8))\n",
    "\n",
    "plt.subplot(121)\n",
    "plt.plot(train_cost, 'r-', label='train')\n",
    "plt.plot(test_cost, 'b-', label='test')\n",
    "plt.xlabel(\"epoch\")\n",
    "plt.ylabel('cost')\n",
    "plt.legend();\n",
    "\n",
    "plt.subplot(122)\n",
    "plt.plot(train_acc, 'r-', label='train')\n",
    "plt.plot(test_acc, 'b-', label='test')\n",
    "plt.xlabel(\"epoch\")\n",
    "plt.ylabel('accuracy')\n",
    "plt.legend();"
   ]
  },
  {
   "cell_type": "markdown",
   "id": "d747542c",
   "metadata": {},
   "source": [
    "# Try with callback"
   ]
  },
  {
   "cell_type": "markdown",
   "id": "467a65dd",
   "metadata": {},
   "source": [
    "# Arsitektur dan config"
   ]
  },
  {
   "cell_type": "code",
   "execution_count": 57,
   "id": "7d3a8f99-9c3d-4b62-9168-e9a53f199031",
   "metadata": {},
   "outputs": [],
   "source": [
    "import torch\n",
    "from torch import nn, optim\n",
    "from jcopdl.callback import Callback, set_config\n",
    "\n",
    "\n",
    "from jcopdl.layers import linear_block\n"
   ]
  },
  {
   "cell_type": "code",
   "execution_count": 58,
   "id": "156caee5-25f8-493b-bc4d-83b1938a2e3f",
   "metadata": {},
   "outputs": [],
   "source": [
    "class HeartFailureClassifier (nn.Module):\n",
    "    def __init__(self, input_size, n1, n2,n3, output_size, dropout=0.2):\n",
    "        super().__init__()\n",
    "        self.fc = nn.Sequential(\n",
    "            nn.Flatten(),\n",
    "            linear_block(input_size, n1, dropout=dropout),\n",
    "            linear_block(n1, n2, dropout=dropout),\n",
    "            linear_block(n2, n3, dropout=dropout),\n",
    "            linear_block(n3, output_size, activation=\"lsoftmax\")\n",
    "        )\n",
    "        \n",
    "    \n",
    "    def forward(self,x):\n",
    "        return self.fc(x)"
   ]
  },
  {
   "cell_type": "code",
   "execution_count": 59,
   "id": "cd0a6b06-8c85-4776-bdac-14abfabb6925",
   "metadata": {},
   "outputs": [],
   "source": [
    "config = set_config({\n",
    "    \"input_size\" : 17,\n",
    "    \"n1\": 32,\n",
    "    \"n2\": 16,\n",
    "    \"n3\": 8,\n",
    "    \"output_size\": len(torch.unique(y_train)),\n",
    "    \"dropout\":0.2\n",
    "})"
   ]
  },
  {
   "cell_type": "markdown",
   "id": "bd4657ae",
   "metadata": {},
   "source": [
    "# Training Preparation MCOC"
   ]
  },
  {
   "cell_type": "code",
   "execution_count": 60,
   "id": "ffc6f166-7e60-4c04-b708-ffb05d250b31",
   "metadata": {},
   "outputs": [],
   "source": [
    "model = HeartFailureClassifier(config.input_size, config.n1, config.n2, config.n3, config.output_size, config.dropout).to(device)\n",
    "criterion = nn.NLLLoss()\n",
    "optimizer = optim.AdamW(model.parameters(), lr = 0.001)\n",
    "callback = Callback(model, config, outdir='model')"
   ]
  },
  {
   "cell_type": "markdown",
   "id": "29340043",
   "metadata": {},
   "source": [
    "# Training "
   ]
  },
  {
   "cell_type": "code",
   "execution_count": 61,
   "id": "cd4350d8-3403-48e0-b681-a4805e1055bd",
   "metadata": {},
   "outputs": [],
   "source": [
    "from tqdm.auto import tqdm\n",
    "\n",
    "\n",
    "def loop_fn(mode, dataset, dataloader, model, criterion, optimizer, device):\n",
    "    if mode == \"train\":\n",
    "        model.train()\n",
    "    elif mode == \"test\":\n",
    "        model.eval()\n",
    "    cost = correct = 0\n",
    "    for feature, target in tqdm(dataloader,desc=mode.title()):\n",
    "        feature, target = feature.to(device), target.to(device)\n",
    "        output = model(feature)\n",
    "        loss = criterion(output, target)\n",
    "        \n",
    "        if mode == \"train\":\n",
    "            loss.backward()\n",
    "            optimizer.step()\n",
    "            optimizer.zero_grad()\n",
    "        \n",
    "        cost += loss.item() * feature.shape[0]\n",
    "        correct += (output.argmax(1) == target).sum().item()\n",
    "    cost = cost / len(dataset)\n",
    "    acc = correct / len(dataset)\n",
    "    return cost, acc"
   ]
  },
  {
   "cell_type": "code",
   "execution_count": 62,
   "id": "eca396fe-48b2-4b27-903b-bae37545983d",
   "metadata": {},
   "outputs": [
    {
     "data": {
      "application/json": {
       "ascii": false,
       "bar_format": null,
       "colour": null,
       "elapsed": 0.037894248962402344,
       "initial": 0,
       "n": 0,
       "ncols": null,
       "nrows": 29,
       "postfix": null,
       "prefix": "Train",
       "rate": null,
       "total": 63,
       "unit": "it",
       "unit_divisor": 1000,
       "unit_scale": false
      },
      "application/vnd.jupyter.widget-view+json": {
       "model_id": "38a3b58976b841bb9e01f5ae03f3ea87",
       "version_major": 2,
       "version_minor": 0
      },
      "text/plain": [
       "Train:   0%|          | 0/63 [00:00<?, ?it/s]"
      ]
     },
     "metadata": {},
     "output_type": "display_data"
    },
    {
     "data": {
      "application/json": {
       "ascii": false,
       "bar_format": null,
       "colour": null,
       "elapsed": 0.030918359756469727,
       "initial": 0,
       "n": 0,
       "ncols": null,
       "nrows": 29,
       "postfix": null,
       "prefix": "Test",
       "rate": null,
       "total": 16,
       "unit": "it",
       "unit_divisor": 1000,
       "unit_scale": false
      },
      "application/vnd.jupyter.widget-view+json": {
       "model_id": "b1f08fb9343f4444bd997ff605baf2c5",
       "version_major": 2,
       "version_minor": 0
      },
      "text/plain": [
       "Test:   0%|          | 0/16 [00:00<?, ?it/s]"
      ]
     },
     "metadata": {},
     "output_type": "display_data"
    },
    {
     "name": "stdout",
     "output_type": "stream",
     "text": [
      "\n",
      "Epoch     1\n",
      "Train_cost  = 1302.9592 | Test_cost  = 124.7784 | Train_score = 0.5577 | Test_score = 0.6860 |\n"
     ]
    },
    {
     "data": {
      "application/json": {
       "ascii": false,
       "bar_format": null,
       "colour": null,
       "elapsed": 0.019895315170288086,
       "initial": 0,
       "n": 0,
       "ncols": null,
       "nrows": 29,
       "postfix": null,
       "prefix": "Train",
       "rate": null,
       "total": 63,
       "unit": "it",
       "unit_divisor": 1000,
       "unit_scale": false
      },
      "application/vnd.jupyter.widget-view+json": {
       "model_id": "e398130006174efe852e4c730c6738b7",
       "version_major": 2,
       "version_minor": 0
      },
      "text/plain": [
       "Train:   0%|          | 0/63 [00:00<?, ?it/s]"
      ]
     },
     "metadata": {},
     "output_type": "display_data"
    },
    {
     "data": {
      "application/json": {
       "ascii": false,
       "bar_format": null,
       "colour": null,
       "elapsed": 0.032914161682128906,
       "initial": 0,
       "n": 0,
       "ncols": null,
       "nrows": 29,
       "postfix": null,
       "prefix": "Test",
       "rate": null,
       "total": 16,
       "unit": "it",
       "unit_divisor": 1000,
       "unit_scale": false
      },
      "application/vnd.jupyter.widget-view+json": {
       "model_id": "2b0e7bf5cd1944d6a8ddad1d2573593a",
       "version_major": 2,
       "version_minor": 0
      },
      "text/plain": [
       "Test:   0%|          | 0/16 [00:00<?, ?it/s]"
      ]
     },
     "metadata": {},
     "output_type": "display_data"
    },
    {
     "name": "stdout",
     "output_type": "stream",
     "text": [
      "\n",
      "Epoch     2\n",
      "Train_cost  = 225.1200 | Test_cost  = 14.4072 | Train_score = 0.5543 | Test_score = 0.6870 |\n"
     ]
    },
    {
     "data": {
      "application/json": {
       "ascii": false,
       "bar_format": null,
       "colour": null,
       "elapsed": 0.02470564842224121,
       "initial": 0,
       "n": 0,
       "ncols": null,
       "nrows": 29,
       "postfix": null,
       "prefix": "Train",
       "rate": null,
       "total": 63,
       "unit": "it",
       "unit_divisor": 1000,
       "unit_scale": false
      },
      "application/vnd.jupyter.widget-view+json": {
       "model_id": "cb07a4cbe27e4047b547831442765b1a",
       "version_major": 2,
       "version_minor": 0
      },
      "text/plain": [
       "Train:   0%|          | 0/63 [00:00<?, ?it/s]"
      ]
     },
     "metadata": {},
     "output_type": "display_data"
    },
    {
     "data": {
      "application/json": {
       "ascii": false,
       "bar_format": null,
       "colour": null,
       "elapsed": 0.043931007385253906,
       "initial": 0,
       "n": 0,
       "ncols": null,
       "nrows": 29,
       "postfix": null,
       "prefix": "Test",
       "rate": null,
       "total": 16,
       "unit": "it",
       "unit_divisor": 1000,
       "unit_scale": false
      },
      "application/vnd.jupyter.widget-view+json": {
       "model_id": "450a0f05177e41a9b4a00b1d44e0cd77",
       "version_major": 2,
       "version_minor": 0
      },
      "text/plain": [
       "Test:   0%|          | 0/16 [00:00<?, ?it/s]"
      ]
     },
     "metadata": {},
     "output_type": "display_data"
    },
    {
     "name": "stdout",
     "output_type": "stream",
     "text": [
      "\n",
      "Epoch     3\n",
      "Train_cost  = 68.4795 | Test_cost  = 1.4920 | Train_score = 0.5573 | Test_score = 0.6870 |\n",
      "\u001b[31m==> EarlyStop patience =  1 | Best test_score: 0.6870\u001b[0m\n"
     ]
    },
    {
     "data": {
      "application/json": {
       "ascii": false,
       "bar_format": null,
       "colour": null,
       "elapsed": 0.02294135093688965,
       "initial": 0,
       "n": 0,
       "ncols": null,
       "nrows": 29,
       "postfix": null,
       "prefix": "Train",
       "rate": null,
       "total": 63,
       "unit": "it",
       "unit_divisor": 1000,
       "unit_scale": false
      },
      "application/vnd.jupyter.widget-view+json": {
       "model_id": "c915ef8746ae485b956ceab38b37cb78",
       "version_major": 2,
       "version_minor": 0
      },
      "text/plain": [
       "Train:   0%|          | 0/63 [00:00<?, ?it/s]"
      ]
     },
     "metadata": {},
     "output_type": "display_data"
    },
    {
     "data": {
      "application/json": {
       "ascii": false,
       "bar_format": null,
       "colour": null,
       "elapsed": 0.031915903091430664,
       "initial": 0,
       "n": 0,
       "ncols": null,
       "nrows": 29,
       "postfix": null,
       "prefix": "Test",
       "rate": null,
       "total": 16,
       "unit": "it",
       "unit_divisor": 1000,
       "unit_scale": false
      },
      "application/vnd.jupyter.widget-view+json": {
       "model_id": "cf0d00e2a0ab411b8300090079a2c025",
       "version_major": 2,
       "version_minor": 0
      },
      "text/plain": [
       "Test:   0%|          | 0/16 [00:00<?, ?it/s]"
      ]
     },
     "metadata": {},
     "output_type": "display_data"
    },
    {
     "name": "stdout",
     "output_type": "stream",
     "text": [
      "\n",
      "Epoch     4\n",
      "Train_cost  = 32.6359 | Test_cost  = 0.6386 | Train_score = 0.5373 | Test_score = 0.6820 |\n",
      "\u001b[31m==> EarlyStop patience =  2 | Best test_score: 0.6870\u001b[0m\n"
     ]
    },
    {
     "data": {
      "application/json": {
       "ascii": false,
       "bar_format": null,
       "colour": null,
       "elapsed": 0.021630048751831055,
       "initial": 0,
       "n": 0,
       "ncols": null,
       "nrows": 29,
       "postfix": null,
       "prefix": "Train",
       "rate": null,
       "total": 63,
       "unit": "it",
       "unit_divisor": 1000,
       "unit_scale": false
      },
      "application/vnd.jupyter.widget-view+json": {
       "model_id": "86a8bcb09ebf4077a0e5aaf0b837143a",
       "version_major": 2,
       "version_minor": 0
      },
      "text/plain": [
       "Train:   0%|          | 0/63 [00:00<?, ?it/s]"
      ]
     },
     "metadata": {},
     "output_type": "display_data"
    },
    {
     "data": {
      "application/json": {
       "ascii": false,
       "bar_format": null,
       "colour": null,
       "elapsed": 0.02332615852355957,
       "initial": 0,
       "n": 0,
       "ncols": null,
       "nrows": 29,
       "postfix": null,
       "prefix": "Test",
       "rate": null,
       "total": 16,
       "unit": "it",
       "unit_divisor": 1000,
       "unit_scale": false
      },
      "application/vnd.jupyter.widget-view+json": {
       "model_id": "7b4345a33d50420ab41a4f5476183231",
       "version_major": 2,
       "version_minor": 0
      },
      "text/plain": [
       "Test:   0%|          | 0/16 [00:00<?, ?it/s]"
      ]
     },
     "metadata": {},
     "output_type": "display_data"
    },
    {
     "name": "stdout",
     "output_type": "stream",
     "text": [
      "\n",
      "Epoch     5\n",
      "Train_cost  = 21.3295 | Test_cost  = 0.7848 | Train_score = 0.5185 | Test_score = 0.3140 |\n",
      "\u001b[31m==> EarlyStop patience =  3 | Best test_score: 0.6870\u001b[0m\n"
     ]
    },
    {
     "data": {
      "application/json": {
       "ascii": false,
       "bar_format": null,
       "colour": null,
       "elapsed": 0.027588605880737305,
       "initial": 0,
       "n": 0,
       "ncols": null,
       "nrows": 29,
       "postfix": null,
       "prefix": "Train",
       "rate": null,
       "total": 63,
       "unit": "it",
       "unit_divisor": 1000,
       "unit_scale": false
      },
      "application/vnd.jupyter.widget-view+json": {
       "model_id": "cef53856b27345d89dc17164875361cf",
       "version_major": 2,
       "version_minor": 0
      },
      "text/plain": [
       "Train:   0%|          | 0/63 [00:00<?, ?it/s]"
      ]
     },
     "metadata": {},
     "output_type": "display_data"
    },
    {
     "data": {
      "application/json": {
       "ascii": false,
       "bar_format": null,
       "colour": null,
       "elapsed": 0.03999829292297363,
       "initial": 0,
       "n": 0,
       "ncols": null,
       "nrows": 29,
       "postfix": null,
       "prefix": "Test",
       "rate": null,
       "total": 16,
       "unit": "it",
       "unit_divisor": 1000,
       "unit_scale": false
      },
      "application/vnd.jupyter.widget-view+json": {
       "model_id": "706ff688247840379eb32ec0458af8ea",
       "version_major": 2,
       "version_minor": 0
      },
      "text/plain": [
       "Test:   0%|          | 0/16 [00:00<?, ?it/s]"
      ]
     },
     "metadata": {},
     "output_type": "display_data"
    },
    {
     "name": "stdout",
     "output_type": "stream",
     "text": [
      "\n",
      "Epoch     6\n",
      "Train_cost  = 9.1097 | Test_cost  = 0.6347 | Train_score = 0.5275 | Test_score = 0.6810 |\n",
      "\u001b[31m==> EarlyStop patience =  4 | Best test_score: 0.6870\u001b[0m\n"
     ]
    },
    {
     "data": {
      "application/json": {
       "ascii": false,
       "bar_format": null,
       "colour": null,
       "elapsed": 0.031916141510009766,
       "initial": 0,
       "n": 0,
       "ncols": null,
       "nrows": 29,
       "postfix": null,
       "prefix": "Train",
       "rate": null,
       "total": 63,
       "unit": "it",
       "unit_divisor": 1000,
       "unit_scale": false
      },
      "application/vnd.jupyter.widget-view+json": {
       "model_id": "9c0e12f9020a4716af1d664f40d49ea2",
       "version_major": 2,
       "version_minor": 0
      },
      "text/plain": [
       "Train:   0%|          | 0/63 [00:00<?, ?it/s]"
      ]
     },
     "metadata": {},
     "output_type": "display_data"
    },
    {
     "data": {
      "application/json": {
       "ascii": false,
       "bar_format": null,
       "colour": null,
       "elapsed": 0.02193617820739746,
       "initial": 0,
       "n": 0,
       "ncols": null,
       "nrows": 29,
       "postfix": null,
       "prefix": "Test",
       "rate": null,
       "total": 16,
       "unit": "it",
       "unit_divisor": 1000,
       "unit_scale": false
      },
      "application/vnd.jupyter.widget-view+json": {
       "model_id": "62b54f7d1dcb4ddc90f282a94206e404",
       "version_major": 2,
       "version_minor": 0
      },
      "text/plain": [
       "Test:   0%|          | 0/16 [00:00<?, ?it/s]"
      ]
     },
     "metadata": {},
     "output_type": "display_data"
    },
    {
     "name": "stdout",
     "output_type": "stream",
     "text": [
      "\n",
      "Epoch     7\n",
      "Train_cost  = 7.7544 | Test_cost  = 0.6989 | Train_score = 0.5200 | Test_score = 0.3480 |\n",
      "\u001b[31m==> EarlyStop patience =  5 | Best test_score: 0.6870\u001b[0m\n",
      "\u001b[31m==> Execute Early Stopping at epoch: 7 | Best test_score: 0.6870\u001b[0m\n",
      "\u001b[31m==> Best model is saved at model\u001b[0m\n"
     ]
    },
    {
     "data": {
      "image/png": "[encoded data removed]",
      "text/plain": [
       "<Figure size 800x500 with 1 Axes>"
      ]
     },
     "metadata": {},
     "output_type": "display_data"
    },
    {
     "data": {
      "image/png": "[encoded data removed]",
      "text/plain": [
       "<Figure size 800x500 with 1 Axes>"
      ]
     },
     "metadata": {},
     "output_type": "display_data"
    }
   ],
   "source": [
    "while True:\n",
    "    train_cost ,train_score = loop_fn('train', train_set, train_loader, model, criterion, optimizer, device)\n",
    "    with torch.no_grad():\n",
    "        test_cost, test_score = loop_fn('test', test_set, test_loader, model, criterion, optimizer, device)\n",
    "    \n",
    "    # logging\n",
    "    callback.log(train_cost, test_cost, train_score, test_score)\n",
    "    \n",
    "    # Checkpoint\n",
    "    callback.save_checkpoint()\n",
    "    \n",
    "    # Runtime Plotting\n",
    "    callback.cost_runtime_plotting()\n",
    "    callback.score_runtime_plotting()\n",
    "    \n",
    "    # Early Stopping\n",
    "    if callback.early_stopping(model, monitor='test_score'):\n",
    "        callback.plot_cost()\n",
    "        callback.plot_score()\n",
    "        break\n",
    "    "
   ]
  },
  {
   "cell_type": "code",
   "execution_count": null,
   "id": "0a0a5fcc",
   "metadata": {},
   "outputs": [],
   "source": []
  },
  {
   "cell_type": "code",
   "execution_count": null,
   "id": "637b9bb4",
   "metadata": {},
   "outputs": [],
   "source": []
  },
  {
   "cell_type": "code",
   "execution_count": null,
   "id": "f2e40166",
   "metadata": {},
   "outputs": [],
   "source": []
  }
 ],
 "metadata": {
  "kernelspec": {
   "display_name": "jcopdl",
   "language": "python",
   "name": "jcopdl"
  },
  "language_info": {
   "codemirror_mode": {
    "name": "ipython",
    "version": 3
   },
   "file_extension": ".py",
   "mimetype": "text/x-python",
   "name": "python",
   "nbconvert_exporter": "python",
   "pygments_lexer": "ipython3",
   "version": "3.9.10"
  }
 },
 "nbformat": 4,
 "nbformat_minor": 5
}
